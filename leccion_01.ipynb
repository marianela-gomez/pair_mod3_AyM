{
 "cells": [
  {
   "cell_type": "markdown",
   "metadata": {},
   "source": [
    "# Creacion e indexación"
   ]
  },
  {
   "cell_type": "markdown",
   "metadata": {},
   "source": [
    "1. Crea un array 1D con 50 valores aleatorios del 10 al 99. Accede a los elementos en las posiciones múltiplos de 5."
   ]
  },
  {
   "cell_type": "code",
   "execution_count": 1,
   "metadata": {},
   "outputs": [],
   "source": [
    "import numpy as np"
   ]
  },
  {
   "cell_type": "code",
   "execution_count": 4,
   "metadata": {},
   "outputs": [],
   "source": [
    "arr1 = np.random.randint(10, 100, (50))"
   ]
  },
  {
   "cell_type": "code",
   "execution_count": 5,
   "metadata": {},
   "outputs": [
    {
     "data": {
      "text/plain": [
       "array([88, 79, 17, 25, 87, 57, 43, 73, 29, 24, 24, 30, 23, 85, 98, 66, 80,\n",
       "       36, 13, 15, 96, 67, 93, 87, 68, 48, 72, 37, 43, 46, 81, 67, 23, 97,\n",
       "       56, 12, 15, 55, 27, 55, 83, 13, 82, 60, 95, 88, 98, 41, 38, 48])"
      ]
     },
     "execution_count": 5,
     "metadata": {},
     "output_type": "execute_result"
    }
   ],
   "source": [
    "arr1"
   ]
  },
  {
   "cell_type": "code",
   "execution_count": 8,
   "metadata": {},
   "outputs": [
    {
     "data": {
      "text/plain": [
       "array([87, 24, 98, 15, 68, 46, 56, 55, 95, 48])"
      ]
     },
     "execution_count": 8,
     "metadata": {},
     "output_type": "execute_result"
    }
   ],
   "source": [
    "arr1[4::5]"
   ]
  },
  {
   "cell_type": "markdown",
   "metadata": {},
   "source": [
    "2. Crea un array 1D con 30 valores aleatorios del 1 al 20 (ambos incluidos). Utiliza indexación para obtener los elementos en las posiciones impares."
   ]
  },
  {
   "cell_type": "code",
   "execution_count": 9,
   "metadata": {},
   "outputs": [],
   "source": [
    "arr2 = np.random.randint(1, 21, (30))"
   ]
  },
  {
   "cell_type": "code",
   "execution_count": 10,
   "metadata": {},
   "outputs": [
    {
     "data": {
      "text/plain": [
       "array([19,  2,  5,  8,  4,  2,  8,  3, 13,  2, 17,  2, 20,  5, 11, 12,  4,\n",
       "        1, 10, 11,  3, 17, 20, 14,  3,  8, 10,  5, 19,  6])"
      ]
     },
     "execution_count": 10,
     "metadata": {},
     "output_type": "execute_result"
    }
   ],
   "source": [
    "arr2"
   ]
  },
  {
   "cell_type": "code",
   "execution_count": 11,
   "metadata": {},
   "outputs": [
    {
     "data": {
      "text/plain": [
       "array([ 2,  8,  2,  3,  2,  2,  5, 12,  1, 11, 17, 14,  8,  5,  6])"
      ]
     },
     "execution_count": 11,
     "metadata": {},
     "output_type": "execute_result"
    }
   ],
   "source": [
    "arr2[1::2]"
   ]
  },
  {
   "cell_type": "markdown",
   "metadata": {},
   "source": [
    "\n",
    "3. Crea un array 2D de forma (4, 6) con números aleatorios decimales (no deben estar comprendidos solo entre 0 y 1). \n",
    "    \n",
    "    Accede a la última fila de la matriz. \n",
    "    \n",
    "    Los decimales deben estar redondeados a 2 decimales."
   ]
  },
  {
   "cell_type": "code",
   "execution_count": 12,
   "metadata": {},
   "outputs": [],
   "source": [
    "arr3 = np.random.rand(4,6)"
   ]
  },
  {
   "cell_type": "code",
   "execution_count": 13,
   "metadata": {},
   "outputs": [
    {
     "data": {
      "text/plain": [
       "array([[0.19979168, 0.92629505, 0.08782511, 0.34792841, 0.67488793,\n",
       "        0.13021963],\n",
       "       [0.31911279, 0.00665164, 0.91098874, 0.50647043, 0.88252471,\n",
       "        0.79566089],\n",
       "       [0.04418752, 0.58106444, 0.72087778, 0.79235449, 0.89035338,\n",
       "        0.67844898],\n",
       "       [0.7289578 , 0.03871906, 0.91971265, 0.2746439 , 0.15346195,\n",
       "        0.13190321]])"
      ]
     },
     "execution_count": 13,
     "metadata": {},
     "output_type": "execute_result"
    }
   ],
   "source": [
    "arr3"
   ]
  },
  {
   "cell_type": "code",
   "execution_count": 14,
   "metadata": {},
   "outputs": [
    {
     "data": {
      "text/plain": [
       "array([0.7289578 , 0.03871906, 0.91971265, 0.2746439 , 0.15346195,\n",
       "       0.13190321])"
      ]
     },
     "execution_count": 14,
     "metadata": {},
     "output_type": "execute_result"
    }
   ],
   "source": [
    "arr3[-1]"
   ]
  },
  {
   "cell_type": "code",
   "execution_count": 15,
   "metadata": {},
   "outputs": [],
   "source": [
    "red = np.round(arr3, 2)"
   ]
  },
  {
   "cell_type": "code",
   "execution_count": 16,
   "metadata": {},
   "outputs": [
    {
     "data": {
      "text/plain": [
       "array([[0.2 , 0.93, 0.09, 0.35, 0.67, 0.13],\n",
       "       [0.32, 0.01, 0.91, 0.51, 0.88, 0.8 ],\n",
       "       [0.04, 0.58, 0.72, 0.79, 0.89, 0.68],\n",
       "       [0.73, 0.04, 0.92, 0.27, 0.15, 0.13]])"
      ]
     },
     "execution_count": 16,
     "metadata": {},
     "output_type": "execute_result"
    }
   ],
   "source": [
    "red"
   ]
  },
  {
   "cell_type": "markdown",
   "metadata": {},
   "source": [
    "# Funciones aritméticas y estádisticas"
   ]
  },
  {
   "cell_type": "markdown",
   "metadata": {},
   "source": [
    "1. Crea un array de tres 3D con elementos entre el 0 y 1 de forma (2, 3, 5) cuyos valores solo tengan 1 decimal."
   ]
  },
  {
   "cell_type": "code",
   "execution_count": 28,
   "metadata": {},
   "outputs": [],
   "source": [
    "arr1 = np.round(np.random.rand(2, 3, 5), 1)"
   ]
  },
  {
   "cell_type": "code",
   "execution_count": 29,
   "metadata": {},
   "outputs": [
    {
     "data": {
      "text/plain": [
       "array([[[0.3, 0.1, 0.2, 0.3, 1. ],\n",
       "        [0.7, 0.3, 0.1, 0.7, 0.5],\n",
       "        [0.6, 0.5, 0.1, 0.3, 0.4]],\n",
       "\n",
       "       [[0.4, 0.9, 0.9, 0.3, 0.5],\n",
       "        [0.7, 0.6, 0.5, 0.3, 0.7],\n",
       "        [0.8, 0.4, 0.3, 0.5, 0.9]]])"
      ]
     },
     "execution_count": 29,
     "metadata": {},
     "output_type": "execute_result"
    }
   ],
   "source": [
    "arr1"
   ]
  },
  {
   "cell_type": "markdown",
   "metadata": {},
   "source": [
    "2. Crea un array vacío con la misma forma y dimensiones que el array creado anteriormente. \n",
    "\n",
    "    Vamos a reemplazar los valores de la matriz vacía que nos acabamos de crear pero basándonos en los valores del primer array bajo las siguientes condiciones:\n",
    "\n",
    "    - Si el valor del array es igual que la media, se reemplaza por \"A\".\n",
    "\n",
    "    - Si el valor del array es mayor que la media, se reemplaza por \"B\".\n",
    "\n",
    "    - Si el valor del array es menor que la media, se reemplaza por \"C\".\n",
    "\n",
    "    - Si el valor es igual que el máximo, se reemplaza por \"D\".\n",
    "\n",
    "    -  Si el valor es igual que el mínimo, se reemplaza por \"E\"."
   ]
  },
  {
   "cell_type": "code",
   "execution_count": 32,
   "metadata": {},
   "outputs": [],
   "source": [
    "arr2 = np.round(np.empty((2,3,5), dtype=float),1)"
   ]
  },
  {
   "cell_type": "code",
   "execution_count": 41,
   "metadata": {},
   "outputs": [],
   "source": [
    "masc_1 = arr1 == arr1.mean()"
   ]
  },
  {
   "cell_type": "code",
   "execution_count": 42,
   "metadata": {},
   "outputs": [],
   "source": [
    "masc_2 = arr1 > arr1.mean()"
   ]
  },
  {
   "cell_type": "code",
   "execution_count": 43,
   "metadata": {},
   "outputs": [],
   "source": [
    "masc_3 = arr1 < arr1.mean()"
   ]
  },
  {
   "cell_type": "code",
   "execution_count": 44,
   "metadata": {},
   "outputs": [],
   "source": [
    "masc_4 = arr1 == arr1.max()"
   ]
  },
  {
   "cell_type": "code",
   "execution_count": 45,
   "metadata": {},
   "outputs": [],
   "source": [
    "masc_5 = arr1 == arr1.min()"
   ]
  },
  {
   "cell_type": "code",
   "execution_count": 75,
   "metadata": {},
   "outputs": [],
   "source": [
    "arr2 = np.where(masc_1, \"A\", arr1)"
   ]
  },
  {
   "cell_type": "code",
   "execution_count": 76,
   "metadata": {},
   "outputs": [
    {
     "data": {
      "text/plain": [
       "array([[['0.3', '0.1', '0.2', '0.3', '1.0'],\n",
       "        ['0.7', '0.3', '0.1', '0.7', '0.5'],\n",
       "        ['0.6', '0.5', '0.1', '0.3', '0.4']],\n",
       "\n",
       "       [['0.4', '0.9', '0.9', '0.3', '0.5'],\n",
       "        ['0.7', '0.6', '0.5', '0.3', '0.7'],\n",
       "        ['0.8', '0.4', '0.3', '0.5', '0.9']]], dtype='<U32')"
      ]
     },
     "execution_count": 76,
     "metadata": {},
     "output_type": "execute_result"
    }
   ],
   "source": [
    "arr2"
   ]
  },
  {
   "cell_type": "code",
   "execution_count": 77,
   "metadata": {},
   "outputs": [],
   "source": [
    "arr2 = np.where(masc_2, \"B\", arr2)"
   ]
  },
  {
   "cell_type": "code",
   "execution_count": 78,
   "metadata": {},
   "outputs": [
    {
     "data": {
      "text/plain": [
       "array([[['0.3', '0.1', '0.2', '0.3', 'B'],\n",
       "        ['B', '0.3', '0.1', 'B', 'B'],\n",
       "        ['B', 'B', '0.1', '0.3', '0.4']],\n",
       "\n",
       "       [['0.4', 'B', 'B', '0.3', 'B'],\n",
       "        ['B', 'B', 'B', '0.3', 'B'],\n",
       "        ['B', '0.4', '0.3', 'B', 'B']]], dtype='<U32')"
      ]
     },
     "execution_count": 78,
     "metadata": {},
     "output_type": "execute_result"
    }
   ],
   "source": [
    "arr2"
   ]
  },
  {
   "cell_type": "code",
   "execution_count": 79,
   "metadata": {},
   "outputs": [],
   "source": [
    "arr2 = np.where(masc_3, \"C\", arr2)"
   ]
  },
  {
   "cell_type": "code",
   "execution_count": 80,
   "metadata": {},
   "outputs": [
    {
     "data": {
      "text/plain": [
       "array([[['C', 'C', 'C', 'C', 'B'],\n",
       "        ['B', 'C', 'C', 'B', 'B'],\n",
       "        ['B', 'B', 'C', 'C', 'C']],\n",
       "\n",
       "       [['C', 'B', 'B', 'C', 'B'],\n",
       "        ['B', 'B', 'B', 'C', 'B'],\n",
       "        ['B', 'C', 'C', 'B', 'B']]], dtype='<U32')"
      ]
     },
     "execution_count": 80,
     "metadata": {},
     "output_type": "execute_result"
    }
   ],
   "source": [
    "arr2"
   ]
  },
  {
   "cell_type": "code",
   "execution_count": 81,
   "metadata": {},
   "outputs": [],
   "source": [
    "arr2 = np.where(masc_4, \"D\", arr2)"
   ]
  },
  {
   "cell_type": "code",
   "execution_count": 82,
   "metadata": {},
   "outputs": [
    {
     "data": {
      "text/plain": [
       "array([[['C', 'C', 'C', 'C', 'D'],\n",
       "        ['B', 'C', 'C', 'B', 'B'],\n",
       "        ['B', 'B', 'C', 'C', 'C']],\n",
       "\n",
       "       [['C', 'B', 'B', 'C', 'B'],\n",
       "        ['B', 'B', 'B', 'C', 'B'],\n",
       "        ['B', 'C', 'C', 'B', 'B']]], dtype='<U32')"
      ]
     },
     "execution_count": 82,
     "metadata": {},
     "output_type": "execute_result"
    }
   ],
   "source": [
    "arr2"
   ]
  },
  {
   "cell_type": "code",
   "execution_count": 83,
   "metadata": {},
   "outputs": [],
   "source": [
    "arr2 = np.where(masc_5, \"E\", arr2)"
   ]
  },
  {
   "cell_type": "code",
   "execution_count": 85,
   "metadata": {},
   "outputs": [
    {
     "data": {
      "text/plain": [
       "array([[[0.3, 0.1, 0.2, 0.3, 1. ],\n",
       "        [0.7, 0.3, 0.1, 0.7, 0.5],\n",
       "        [0.6, 0.5, 0.1, 0.3, 0.4]],\n",
       "\n",
       "       [[0.4, 0.9, 0.9, 0.3, 0.5],\n",
       "        [0.7, 0.6, 0.5, 0.3, 0.7],\n",
       "        [0.8, 0.4, 0.3, 0.5, 0.9]]])"
      ]
     },
     "execution_count": 85,
     "metadata": {},
     "output_type": "execute_result"
    }
   ],
   "source": [
    "arr1"
   ]
  },
  {
   "cell_type": "code",
   "execution_count": 84,
   "metadata": {},
   "outputs": [
    {
     "data": {
      "text/plain": [
       "array([[['C', 'E', 'C', 'C', 'D'],\n",
       "        ['B', 'C', 'E', 'B', 'B'],\n",
       "        ['B', 'B', 'E', 'C', 'C']],\n",
       "\n",
       "       [['C', 'B', 'B', 'C', 'B'],\n",
       "        ['B', 'B', 'B', 'C', 'B'],\n",
       "        ['B', 'C', 'C', 'B', 'B']]], dtype='<U32')"
      ]
     },
     "execution_count": 84,
     "metadata": {},
     "output_type": "execute_result"
    }
   ],
   "source": [
    "arr2"
   ]
  },
  {
   "cell_type": "markdown",
   "metadata": {},
   "source": [
    "Otra forma más rápida: where anidados"
   ]
  },
  {
   "cell_type": "code",
   "execution_count": 98,
   "metadata": {},
   "outputs": [],
   "source": [
    "arr2 = np.round(np.empty((2,3,5), dtype=float),1)"
   ]
  },
  {
   "cell_type": "code",
   "execution_count": null,
   "metadata": {},
   "outputs": [],
   "source": [
    "arr3 = np.empty_like(arr1) # Otra forma de hacer lo de arriba"
   ]
  },
  {
   "cell_type": "code",
   "execution_count": 104,
   "metadata": {},
   "outputs": [
    {
     "data": {
      "text/plain": [
       "array([[[0.3, 0.1, 0.2, 0.3, 1. ],\n",
       "        [0.7, 0.3, 0.1, 0.7, 0.5],\n",
       "        [0.6, 0.5, 0.1, 0.3, 0.4]],\n",
       "\n",
       "       [[0.4, 0.9, 0.9, 0.3, 0.5],\n",
       "        [0.7, 0.6, 0.5, 0.3, 0.7],\n",
       "        [0.8, 0.4, 0.3, 0.5, 0.9]]])"
      ]
     },
     "execution_count": 104,
     "metadata": {},
     "output_type": "execute_result"
    }
   ],
   "source": [
    "arr3"
   ]
  },
  {
   "cell_type": "code",
   "execution_count": 105,
   "metadata": {},
   "outputs": [],
   "source": [
    "arr3 = np.where(masc_1, \"A\", np.where(masc_2, \"B\", np.where(masc_3, \"C\", np.where(masc_4, \"D\", np.where(masc_5, \"E\", arr1)))))"
   ]
  },
  {
   "cell_type": "code",
   "execution_count": 94,
   "metadata": {},
   "outputs": [
    {
     "data": {
      "text/plain": [
       "array([[[0.3, 0.1, 0.2, 0.3, 1. ],\n",
       "        [0.7, 0.3, 0.1, 0.7, 0.5],\n",
       "        [0.6, 0.5, 0.1, 0.3, 0.4]],\n",
       "\n",
       "       [[0.4, 0.9, 0.9, 0.3, 0.5],\n",
       "        [0.7, 0.6, 0.5, 0.3, 0.7],\n",
       "        [0.8, 0.4, 0.3, 0.5, 0.9]]])"
      ]
     },
     "execution_count": 94,
     "metadata": {},
     "output_type": "execute_result"
    }
   ],
   "source": [
    "arr1"
   ]
  },
  {
   "cell_type": "markdown",
   "metadata": {},
   "source": [
    "Haciéndolo así, no se evaluan las últimas condiciones (D y E), vamos a cambiar el orden:"
   ]
  },
  {
   "cell_type": "code",
   "execution_count": 106,
   "metadata": {},
   "outputs": [
    {
     "data": {
      "text/plain": [
       "array([[['C', 'C', 'C', 'C', 'B'],\n",
       "        ['B', 'C', 'C', 'B', 'B'],\n",
       "        ['B', 'B', 'C', 'C', 'C']],\n",
       "\n",
       "       [['C', 'B', 'B', 'C', 'B'],\n",
       "        ['B', 'B', 'B', 'C', 'B'],\n",
       "        ['B', 'C', 'C', 'B', 'B']]], dtype='<U32')"
      ]
     },
     "execution_count": 106,
     "metadata": {},
     "output_type": "execute_result"
    }
   ],
   "source": [
    "arr3"
   ]
  },
  {
   "cell_type": "code",
   "execution_count": 107,
   "metadata": {},
   "outputs": [],
   "source": [
    "arr4 = np.where(masc_5, \"E\", np.where(masc_4, \"D\", np.where(masc_1, \"A\", np.where(masc_2, \"B\", np.where(masc_3, \"C\", arr1)))))"
   ]
  },
  {
   "cell_type": "code",
   "execution_count": 108,
   "metadata": {},
   "outputs": [
    {
     "data": {
      "text/plain": [
       "array([[['C', 'E', 'C', 'C', 'D'],\n",
       "        ['B', 'C', 'E', 'B', 'B'],\n",
       "        ['B', 'B', 'E', 'C', 'C']],\n",
       "\n",
       "       [['C', 'B', 'B', 'C', 'B'],\n",
       "        ['B', 'B', 'B', 'C', 'B'],\n",
       "        ['B', 'C', 'C', 'B', 'B']]], dtype='<U32')"
      ]
     },
     "execution_count": 108,
     "metadata": {},
     "output_type": "execute_result"
    }
   ],
   "source": [
    "arr4"
   ]
  },
  {
   "cell_type": "code",
   "execution_count": null,
   "metadata": {},
   "outputs": [],
   "source": [
    "# Esto también se puede hacer con select\n",
    "\n",
    "np.select(lista_condiciones, lista_opciones)"
   ]
  },
  {
   "cell_type": "markdown",
   "metadata": {},
   "source": [
    "# BONUS"
   ]
  },
  {
   "cell_type": "markdown",
   "metadata": {},
   "source": [
    "\n",
    "1. Crea un array 3D de forma (2, 3, 5) y 30 elementos con números enteros entre 0 y 100 (ambos incluidos). Reemplaza los elementos en posiciones múltiplos de 3 por 0."
   ]
  },
  {
   "cell_type": "code",
   "execution_count": 2,
   "metadata": {},
   "outputs": [],
   "source": [
    "array = np.random.randint(0, 101, (2,3,5))"
   ]
  },
  {
   "cell_type": "code",
   "execution_count": 3,
   "metadata": {},
   "outputs": [
    {
     "data": {
      "text/plain": [
       "array([[[70, 63,  5, 87, 73],\n",
       "        [64, 50, 46, 45, 55],\n",
       "        [99, 62, 81,  9, 99]],\n",
       "\n",
       "       [[20, 38, 89, 77, 46],\n",
       "        [21, 71, 68,  0, 17],\n",
       "        [64,  2, 48, 18, 65]]])"
      ]
     },
     "execution_count": 3,
     "metadata": {},
     "output_type": "execute_result"
    }
   ],
   "source": [
    "array"
   ]
  },
  {
   "cell_type": "code",
   "execution_count": 4,
   "metadata": {},
   "outputs": [
    {
     "data": {
      "text/plain": [
       "array([[[ 5],\n",
       "        [46],\n",
       "        [81]],\n",
       "\n",
       "       [[89],\n",
       "        [68],\n",
       "        [48]]])"
      ]
     },
     "execution_count": 4,
     "metadata": {},
     "output_type": "execute_result"
    }
   ],
   "source": [
    "array[::,::,2::3]"
   ]
  },
  {
   "cell_type": "code",
   "execution_count": null,
   "metadata": {},
   "outputs": [],
   "source": [
    "array2 = np.where(array[::,::,2::3])"
   ]
  },
  {
   "cell_type": "code",
   "execution_count": 62,
   "metadata": {},
   "outputs": [
    {
     "data": {
      "text/plain": [
       "30"
      ]
     },
     "execution_count": 62,
     "metadata": {},
     "output_type": "execute_result"
    }
   ],
   "source": [
    "array.size"
   ]
  },
  {
   "cell_type": "code",
   "execution_count": 64,
   "metadata": {},
   "outputs": [
    {
     "ename": "ValueError",
     "evalue": "The truth value of an array with more than one element is ambiguous. Use a.any() or a.all()",
     "output_type": "error",
     "traceback": [
      "\u001b[1;31m---------------------------------------------------------------------------\u001b[0m",
      "\u001b[1;31mValueError\u001b[0m                                Traceback (most recent call last)",
      "Cell \u001b[1;32mIn[64], line 1\u001b[0m\n\u001b[1;32m----> 1\u001b[0m np\u001b[38;5;241m.\u001b[39marange(array)\n",
      "\u001b[1;31mValueError\u001b[0m: The truth value of an array with more than one element is ambiguous. Use a.any() or a.all()"
     ]
    }
   ],
   "source": [
    "np.arange(array)"
   ]
  },
  {
   "cell_type": "code",
   "execution_count": null,
   "metadata": {},
   "outputs": [
    {
     "ename": "IndexError",
     "evalue": "index 70 is out of bounds for axis 0 with size 30",
     "output_type": "error",
     "traceback": [
      "\u001b[1;31m---------------------------------------------------------------------------\u001b[0m",
      "\u001b[1;31mIndexError\u001b[0m                                Traceback (most recent call last)",
      "Cell \u001b[1;32mIn[59], line 1\u001b[0m\n\u001b[1;32m----> 1\u001b[0m array\u001b[38;5;241m.\u001b[39mflatten()[array\u001b[38;5;241m.\u001b[39mflatten()[::\u001b[38;5;241m3\u001b[39m]] \u001b[38;5;241m=\u001b[39m \u001b[38;5;241m0\u001b[39m\n",
      "\u001b[1;31mIndexError\u001b[0m: index 70 is out of bounds for axis 0 with size 30"
     ]
    }
   ],
   "source": [
    "array.flatten()[array.flatten()[::3]]"
   ]
  },
  {
   "cell_type": "code",
   "execution_count": null,
   "metadata": {},
   "outputs": [
    {
     "data": {
      "text/plain": [
       "array([ True])"
      ]
     },
     "execution_count": 56,
     "metadata": {},
     "output_type": "execute_result"
    }
   ],
   "source": [
    "# Reemplazar los elementos en posiciones múltiplos de 3 por 0\n",
    "array[np.arange(array.size) % 3 == 0] = 0\n",
    "\n",
    "print(\"\\nArray después de reemplazar elementos en posiciones múltiplos de 3 por 0:\")\n",
    "print(array_3d)"
   ]
  }
 ],
 "metadata": {
  "kernelspec": {
   "display_name": "base",
   "language": "python",
   "name": "python3"
  },
  "language_info": {
   "codemirror_mode": {
    "name": "ipython",
    "version": 3
   },
   "file_extension": ".py",
   "mimetype": "text/x-python",
   "name": "python",
   "nbconvert_exporter": "python",
   "pygments_lexer": "ipython3",
   "version": "3.12.7"
  }
 },
 "nbformat": 4,
 "nbformat_minor": 2
}
